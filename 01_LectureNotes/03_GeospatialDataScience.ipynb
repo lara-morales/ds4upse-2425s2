{
 "cells": [
  {
   "cell_type": "markdown",
   "metadata": {},
   "source": [
    "# Geographic Data Science: An Introduction"
   ]
  },
  {
   "cell_type": "markdown",
   "metadata": {},
   "source": [
    "## Geographic Data Science with Python\n",
    "- Geographic Data Science: The study of geographic problems using data and computational methods.\n",
    "- Intersection of GIS, spatial statistics, and data science\n",
    "- Aside from the usual cross-sectional data that we have been working with, we will also be working with spatial data.\n",
    "- This could be data that is explicitly geographic, such as GPS coordinates, or data that has a geographic component, such as addresses or zip codes.\n",
    "- Application to Economics:\n",
    "    - Geographic market definition in antitrust proceedings\n",
    "    - Spatial econometrics - study of spatial relationships in economic data such as spatial autocorrelation in house prices\n",
    "    - Urban economics - study of cities and their spatial organization\n",
    "    - Environmental economics - study of the spatial distribution of pollution and its effects\n",
    "    - Regional economics - study of the spatial distribution of economic activity\n",
    "    - Transportation economics - study of the spatial distribution of transportation networks\n",
    "    - Economic geography - study of the spatial distribution of economic activity\n",
    "\n",
    "## Spatial Data\n",
    "- Spatial data is data that has a geographic component to it.\n",
    "- Importance: \n",
    "    - Many datasets have a geographic component to them.\n",
    "    - Geographic data can be used to answer questions that are not possible with non-geographic data.\n",
    "\n",
    "### Types of Spatial Data:\n",
    "\n",
    "1. **Vector Data**: \n",
    "- Vector data represents geographic features as points, lines, and polygons.\n",
    "- Points: Represent a single location in space.\n",
    "- Lines: Represent a series of connected points.\n",
    "- Polygons: Represent a closed shape made up of a series of connected points.\n",
    "- usual file formats:\n",
    "    - Shapefiles (.shp): widely used but also requires multiple files (.shp, .shx, .dbf, etc.)\n",
    "    - GeoJSON (.geojson): JSON-based format that is easy to read and write, used in web applications\n",
    "    - GeoPackage (.gpkg): SQLite-based format that can store multiple layers in a single file\n",
    "    - KML (.kml): XML-based format used in Google Earth\n",
    "\n",
    "2. **Raster Data**:\n",
    "- Raster data represents geographic features as a grid of cells.\n",
    "- *gridded spatial data* such as satellite imagery, digital elevation models, and climate data.\n",
    "- examples:\n",
    "    - Land cover data: classifies each cell as forest, water, urban, etc.\n",
    "    - Elevation data: gives the elevation of each cell above sea level.\n",
    "    - Climate data: gives temperature, precipitation, etc. for each cell.\n",
    "- usual file formats:\n",
    "    - GeoTIFF (.tif): widely used format for raster data\n",
    "    - NetCDF (.nc): format for storing gridded data in climate science\n",
    "    - HDF5 (.h5): format for storing large datasets in scientific computing\n",
    "- Source of raster data:\n",
    "    - NASA Earth Observing System Data and Information System (EOSDIS)\n",
    "    - US Geological Survey (USGS)\n",
    "    - National Oceanic and Atmospheric Administration (NOAA)\n",
    "    - European Space Agency (ESA)\n",
    "    - Google Earth Engine\n",
    "\n",
    "3. **Coordinate Reference Systems (CRS)**:\n",
    "- Coordinate reference systems (CRS) are used to define the location of geographic data.\n",
    "- Geographic data is usually stored in a two-dimensional space, with the x-axis representing longitude and the y-axis representing latitude.\n",
    "- WHY IMPORTANT: Different CRSs can represent the same location in different ways, so it is important to know the CRS of your data.\n",
    "- Common CRSs:\n",
    "    - WGS 84 (EPSG:4326): standard CRS for GPS data\n",
    "    - Web Mercator (EPSG:3857): standard CRS for web maps\n",
    "    - Universal Transverse Mercator (UTM): standard CRS for large-scale mapping\n",
    "    - State Plane Coordinate System (SPCS): standard CRS for US states\n",
    "    - Ordnance Survey National Grid (OSGB): standard CRS for UK\n",
    "\n",
    "4. **Basic Spatial Operations**:\n",
    "- Spatial operations are used to analyze and wrangle spatial data.\n",
    "- Examples:\n",
    "    - Buffering: creating a buffer around a point, line, or polygon\n",
    "    - Clipping: extracting a subset of a dataset based on a spatial boundary\n",
    "    - Overlay: combining two datasets based on their spatial relationship\n",
    "    - Interpolation: estimating values at unsampled locations based on nearby samples\n",
    "    - Proximity: finding the nearest point, line, or polygon to a given location\n"
   ]
  },
  {
   "cell_type": "markdown",
   "metadata": {},
   "source": [
    "## Libraries for Geographic Data Science\n",
    "\n",
    "### Key Libraries\n",
    "1. Geopandas\n",
    "- Extends the popular Pandas library to support spatial data.\n",
    "- does vector data handling such as spatial joins and conversion to shapefiles\n",
    "\n",
    "2. Shapely\n",
    "- Does geometric operations such as buffers, and intersections to form a clip\n",
    "\n",
    "3. RasterIO\n",
    "- Package used to work with raster data\n",
    "\n",
    "4. Folium\n",
    "- Used to create interactive webmaps\n",
    "\n",
    "5. osmnx\n",
    "- can be used to extract street networks and urban features"
   ]
  },
  {
   "cell_type": "code",
   "execution_count": null,
   "metadata": {},
   "outputs": [],
   "source": [
    "import os\n",
    "\n",
    "import numpy as np\n",
    "import pandas as pd\n",
    "import geopandas as gpd\n",
    "import matplotlib.pyplot as plt\n",
    "import folium\n",
    "\n",
    "import googlemaps\n",
    "import osmnx as ox\n",
    "import networkx as nx\n",
    "\n",
    "from shapely.geometry import Point"
   ]
  },
  {
   "cell_type": "code",
   "execution_count": null,
   "metadata": {},
   "outputs": [],
   "source": [
    "path= \"/Users/moxballo/Documents/GitHub/ds4upse-2425s2/\"\n",
    "sc = pd.read_excel(path + \"03_data/shopping_centers_complete.xlsx\")"
   ]
  },
  {
   "cell_type": "code",
   "execution_count": null,
   "metadata": {},
   "outputs": [],
   "source": [
    "PH_shp = '/Users/moxballo/Documents/PH_shapefiles/'\n",
    "\n",
    "# load a shapefile\n",
    "gdf = gpd.read_file(PH_shp + 'phl_admbnda_adm2_psa_namria_20231106.shp')\n",
    "\n",
    "# check the crs\n",
    "print(gdf.crs)"
   ]
  },
  {
   "cell_type": "code",
   "execution_count": null,
   "metadata": {},
   "outputs": [],
   "source": [
    "gdf.info()"
   ]
  },
  {
   "cell_type": "code",
   "execution_count": null,
   "metadata": {},
   "outputs": [],
   "source": [
    "gdf['ADM2_EN'].value_counts()"
   ]
  },
  {
   "cell_type": "code",
   "execution_count": null,
   "metadata": {},
   "outputs": [],
   "source": [
    "# print the shapely gdf\n",
    "fig, ax = plt.subplots(figsize=(10, 10))\n",
    "gdf.plot(ax=ax, color='white', edgecolor='black')\n",
    "plt.show()"
   ]
  },
  {
   "cell_type": "code",
   "execution_count": null,
   "metadata": {},
   "outputs": [],
   "source": [
    "gdf_reg = gpd.read_file(PH_shp + 'phl_admbnda_adm1_psa_namria_20231106.shp')\n",
    "fig, ax = plt.subplots(figsize=(10, 10))\n",
    "gdf_reg.plot(ax=ax, color='white', edgecolor='black')\n",
    "plt.show()"
   ]
  },
  {
   "cell_type": "code",
   "execution_count": null,
   "metadata": {},
   "outputs": [],
   "source": [
    "ncr = gdf_reg[gdf_reg['ADM1_EN']==\"National Capital Region (NCR)\"]\n",
    "\n",
    "fig, ax = plt.subplots(figsize=(10, 10))\n",
    "ncr.plot(ax=ax, color='white', edgecolor='black')\n",
    "plt.show()"
   ]
  },
  {
   "cell_type": "code",
   "execution_count": null,
   "metadata": {},
   "outputs": [],
   "source": [
    "# overlay the coordinates from the sc file \n",
    "sc_gdf = gpd.GeoDataFrame(sc, geometry=gpd.points_from_xy(sc.long, sc.lat)) # convert to GeoDataFrame\n",
    "sc_gdf.crs = {'init': 'epsg:4326'} \n",
    "\n",
    "fig, ax = plt.subplots(figsize=(10, 10))\n",
    "ncr.plot(ax=ax, color='white', edgecolor='black')\n",
    "sc_gdf.plot(ax=ax, color='red', markersize=5)\n",
    "plt.show()"
   ]
  },
  {
   "cell_type": "code",
   "execution_count": null,
   "metadata": {},
   "outputs": [],
   "source": [
    "# Overlay roads from NCR\n",
    "ncr_roads = gpd.read_file(path + '03_data/ncr_roads/NCR_roads.shp')\n",
    "\n",
    "fig, ax = plt.subplots(figsize=(10, 10))\n",
    "\n",
    "ncr_roads.plot(ax=ax, color='black', linewidth=0.5, alpha=0.5)\n",
    "ncr.plot(ax=ax, color='white', edgecolor='black')\n",
    "sc_gdf.plot(ax=ax, color='red', markersize=5)\n",
    "plt.show()"
   ]
  },
  {
   "cell_type": "markdown",
   "metadata": {},
   "source": [
    "## Exercise:\n",
    "- Download the ADM files from https://data.humdata.org/dataset/cod-ab-phl\n",
    "- use the ADM3 file \n",
    "\n",
    "- Expected outputs\n",
    "    1. Use the https://en.wikipedia.org/wiki/List_of_shopping_malls_in_Metro_Manila to screen all the major shopping centers in NCR. Create a column 'major_shop'\n",
    "    2. Color the shopping centers by entity. Create a column 'entity'\n",
    "    3. Create a column containing the city/municipality where the entity is located."
   ]
  },
  {
   "cell_type": "markdown",
   "metadata": {},
   "source": []
  }
 ],
 "metadata": {
  "kernelspec": {
   "display_name": ".venv",
   "language": "python",
   "name": "python3"
  },
  "language_info": {
   "codemirror_mode": {
    "name": "ipython",
    "version": 3
   },
   "file_extension": ".py",
   "mimetype": "text/x-python",
   "name": "python",
   "nbconvert_exporter": "python",
   "pygments_lexer": "ipython3",
   "version": "3.13.1"
  }
 },
 "nbformat": 4,
 "nbformat_minor": 2
}

{
 "cells": [
  {
   "cell_type": "markdown",
   "metadata": {},
   "source": [
    "#  Basics of Python and Object-Oriented Programming\n",
    "\n",
    "Python version: 3.13.1"
   ]
  },
  {
   "cell_type": "markdown",
   "metadata": {},
   "source": [
    "Recap:\n",
    "\n",
    "- Discussion of syllabus\n",
    "- Introduction to Python\n",
    "- Introduction to IDEs\n",
    "- Set-up of environment\n",
    "- Introduction to Jupyter Notebooks"
   ]
  },
  {
   "cell_type": "markdown",
   "metadata": {},
   "source": [
    "# Introduction\n",
    "\n",
    "**Objectives**:\n",
    "- Basics of Python\n",
    "- What is Object-Oriented Programming?\n",
    "- Coding Style and Best Practices\n",
    "- Basics of Version Control"
   ]
  },
  {
   "cell_type": "markdown",
   "metadata": {},
   "source": [
    "# Fundamentals\n",
    "\n",
    "## Basic Syntax and Data Types\n",
    "\n",
    "### Variables\n",
    "- Variables are used to store data values.\n",
    "- They are created by assigning a value to them.\n",
    "\n",
    "#### vs Stata\n",
    "- In Stata, variables are created by loading data into memory, while in Python, variables are created by assigning a value to them.\n",
    "- You can assign any type of value to a variable in Python, while in Stata, variables are assigned a specific type of value.\n",
    "\n",
    "#### vs R\n",
    "- In R, variables are created by assigning a value to them, similar to Python.\n",
    "- You can assign any type of value to a variable in Python, while in R, variables are assigned a specific type of value."
   ]
  },
  {
   "cell_type": "code",
   "execution_count": 3,
   "metadata": {},
   "outputs": [],
   "source": [
    "a = 10\n",
    "b = 3.14\n",
    "c = \"Hello\"\n",
    "d = True"
   ]
  },
  {
   "cell_type": "markdown",
   "metadata": {},
   "source": [
    "### Data Types\n",
    "- Python has the following data types:\n",
    "    - Text Type: `str`\n",
    "    - Numeric Types: \n",
    "        - `int` - Integer\n",
    "        - `float` - Floating Point Number (Decimal)\n",
    "        - `complex` - Complex Number (Real and Imaginary)\n",
    "    - Sequence Types: \n",
    "        - `list` -  list is an ordered and mutable collection of items commonly used to store related pieces of information\n",
    "        - `tuple` -  tuple is an ordered and immutable collection of items commonly used to store related pieces of information, but unlike lists, tuples are immutable and cannot be changed\n",
    "        -  `range` - range are immutable sequences of numbers that are commonly used in for loops\n",
    "    - Mapping Type: `dict` - dictionary is an unordered and mutable collection of key-value pairs\n",
    "    - Set Types: \n",
    "        - `set` - set is an unordered and mutable collection of unique items but unlike lists and tuples, sets do not allow duplicate elements\n",
    "        - `frozenset` - frozenset is an unordered and immutable collection of unique items but unlike sets, frozensets are immutable and cannot be changed\n",
    "    - Boolean Type: `bool` - used to represent the truth values of logic and can only be either `True` or `False`\n",
    "    - Binary Types: \n",
    "        - `bytes` \n",
    "        - `bytearray`\n",
    "        - `memoryview`"
   ]
  },
  {
   "cell_type": "code",
   "execution_count": null,
   "metadata": {},
   "outputs": [],
   "source": [
    "# print the type of each variable\n",
    "print(type(a))\n",
    "print(type(b))\n",
    "print(type(c))\n",
    "print(type(d))"
   ]
  },
  {
   "cell_type": "markdown",
   "metadata": {},
   "source": [
    "### Control Structures\n",
    "\n",
    "#### Conditional Statements\n",
    "- Conditional statements are used to execute a block of code based on a condition.\n",
    "- Unlike stata\n",
    "    - Python uses indentation to define code blocks\n",
    "    - conditional logic are embedded in the command options in Stata, while in Python, they are separate statements\n",
    "- Unlike in R\n",
    "    - Python uses `elif` instead of `else if` to define multiple conditions while in R\n",
    "    - Python uses `:` to define code blocks while in R, it uses `{}`"
   ]
  },
  {
   "cell_type": "code",
   "execution_count": null,
   "metadata": {},
   "outputs": [],
   "source": [
    "if a > 5:\n",
    "    print(\"a is greater than 5\")\n",
    "else:\n",
    "    print(\"a is not greater than 5\")"
   ]
  },
  {
   "cell_type": "markdown",
   "metadata": {},
   "source": [
    "Note: consistent indentation is important in Python\n"
   ]
  },
  {
   "cell_type": "markdown",
   "metadata": {},
   "source": [
    "#### Loops\n",
    "- Loops are used to iterate over a sequence of items.\n",
    "- Python has two types of loops:\n",
    "    - `for` loop\n",
    "    - `while` loop\n",
    "\n",
    "- `for` loop\n",
    "    - `for` loop is used to iterate over a sequence of items.\n",
    " "
   ]
  },
  {
   "cell_type": "code",
   "execution_count": null,
   "metadata": {},
   "outputs": [],
   "source": [
    "for i in range(5):\n",
    "    print(i)"
   ]
  },
  {
   "cell_type": "markdown",
   "metadata": {},
   "source": [
    "Note: Python starts counting from 0\n",
    "\n",
    "- `while` loop\n",
    "    - `while` loop is used to execute a block of code as long as a condition is true."
   ]
  },
  {
   "cell_type": "code",
   "execution_count": null,
   "metadata": {},
   "outputs": [],
   "source": [
    "while a < 15:\n",
    "    print(a)\n",
    "    a += 1"
   ]
  },
  {
   "cell_type": "markdown",
   "metadata": {},
   "source": [
    "The main difference between `for` and `while` loops is that `for` loops are used when the number of iterations is known, while `while` loops are used when the number of iterations is unknown.\n",
    "\n",
    "Be careful with `while` loops as they can run indefinitely if the condition is always true."
   ]
  },
  {
   "cell_type": "markdown",
   "metadata": {},
   "source": [
    "## Data Structures\n",
    "\n",
    "#### Lists\n",
    "- mutable, ordered collection of items\n",
    "- created using square brackets `[]`\n",
    "- can contain items of different data types\n",
    "- compared to R, lists are similar to vectors in R, but python can contain items of different data types"
   ]
  },
  {
   "cell_type": "code",
   "execution_count": null,
   "metadata": {},
   "outputs": [],
   "source": [
    "fruits = [\"apple\", \"banana\", \"cherry\"]\n",
    "print(fruits)"
   ]
  },
  {
   "cell_type": "code",
   "execution_count": null,
   "metadata": {},
   "outputs": [],
   "source": [
    "fruits.append(\"orange\")\n",
    "fruits"
   ]
  },
  {
   "cell_type": "code",
   "execution_count": null,
   "metadata": {},
   "outputs": [],
   "source": [
    "# You can also loop through a list\n",
    "for fruit in fruits:\n",
    "    print(fruit)"
   ]
  },
  {
   "cell_type": "markdown",
   "metadata": {},
   "source": [
    "#### Tuples\n",
    "- immutable, ordered collection of items\n",
    "- created using parentheses `()` or `tuple()` function\n",
    "- can contain items of different data types\n",
    "- R nor Stata does not have a direct equivalent to tuples\n",
    "- tuples are used to store related pieces of information that should not be changed or modified such as dates, coordinates, etc."
   ]
  },
  {
   "cell_type": "code",
   "execution_count": 11,
   "metadata": {},
   "outputs": [],
   "source": [
    "# Quezon City coordinates\n",
    "latitude = 14.6760\n",
    "longitude = 121.0437\n",
    "coordinates = (latitude, longitude)"
   ]
  },
  {
   "cell_type": "code",
   "execution_count": null,
   "metadata": {},
   "outputs": [],
   "source": [
    "# You can also unpack a tuple\n",
    "latitude, longitude = coordinates\n",
    "print(latitude)\n",
    "print(longitude)"
   ]
  },
  {
   "cell_type": "markdown",
   "metadata": {},
   "source": [
    "#### Dictionaries\n",
    "- mutable, unordered collection of key-value pairs\n",
    "- created using curly braces `{}`\n",
    "- keys are unique and immutable\n",
    "- values can be of any data type\n",
    "- commonly used to store related pieces of information that can be accessed using a key\n",
    "- useful when you want to rename variables or create a lookup table"
   ]
  },
  {
   "cell_type": "code",
   "execution_count": 13,
   "metadata": {},
   "outputs": [],
   "source": [
    "# When you want to standardize column names, you can use a dictionary\n",
    "columns_ptci={\n",
    "    \"Site Name\": \"Site_ID\",\n",
    "    \"Site Tenancy status_22Mar2024\": \"MNO\",\n",
    "    \"Project Type\": \"Type\",\n",
    "    \"Location (Latitude)\": \"Latitude\",\n",
    "    \"Location (Longitude)\": \"Longitude\"\n",
    "    }\n",
    "\n",
    "# You can also use a dictionary when you want to rename or standardize values\n",
    "mno_mapping = {\n",
    "    \"Globe (Anchor)\": \"Globe\",\n",
    "    \"Globe  (Anchor) + Smart (Colo)\": \"Globe\",\n",
    "    \"Globe  (Anchor) + DITO (Colo)\": \"Globe\",\n",
    "    \"Smart (Anchor)\": \"Smart\",\n",
    "    \"Smart  (Anchor) + Globe (Colo)\": \"Smart\",\n",
    "    \"Smart (Anchor) + DITO (Colo)\": \"Smart\",\n",
    "    \"SMART\": \"Smart\"\n",
    "    }"
   ]
  },
  {
   "cell_type": "markdown",
   "metadata": {},
   "source": [
    "#### Sets\n",
    "- mutable, unordered collection of unique items\n",
    "- created using curly braces `{}`\n",
    "- can only contain immutable items such as strings, numbers, and tuples\n",
    "- useful when you want to remove duplicates from a list or check for duplicates"
   ]
  },
  {
   "cell_type": "code",
   "execution_count": 14,
   "metadata": {},
   "outputs": [],
   "source": [
    "# example of a set\n",
    "set1 = {1, 2, 3}\n",
    "set2 = {3, 4, 5}"
   ]
  },
  {
   "cell_type": "code",
   "execution_count": null,
   "metadata": {},
   "outputs": [],
   "source": [
    "# union\n",
    "set1.union(set2)"
   ]
  },
  {
   "cell_type": "code",
   "execution_count": null,
   "metadata": {},
   "outputs": [],
   "source": [
    "# intersection\n",
    "set1.intersection(set2)"
   ]
  },
  {
   "cell_type": "markdown",
   "metadata": {},
   "source": [
    "## Functions and Modules\n",
    "\n",
    "### Functions\n",
    "- Functions are used to perform a specific task.\n",
    "- They are created using the `def` keyword followed by the function name and parentheses.\n",
    "- Functions can take arguments and return values.\n",
    "- IMPORTANT: clear, modular, and reusable functions\n",
    "    - *readability*: functions make the code more readable and easier to understand because they break down complex tasks into smaller, more manageable tasks\n",
    "    - *modularity*: functions are self-contained and can be reused in different parts of the code without affecting other parts of the code\n",
    "    - *reusability*: functions can be reused in different parts of the code without having to rewrite the same code\n",
    "    - *maintainability*: functions are easier to maintain and debug because they are self-contained and reusable\n",
    "    - *testability*: functions are easier to test because they are self-contained and can be tested independently of other parts of the code\n",
    "    - *documentation*: functions can be documented to explain what they do, how they work, and how they should be used"
   ]
  },
  {
   "cell_type": "code",
   "execution_count": 7,
   "metadata": {},
   "outputs": [],
   "source": [
    "def compound_interest(principal, rate, time):\n",
    "    \"\"\"\n",
    "    Calculate the compound interest\n",
    "\n",
    "    Parameters:\n",
    "    principal: float - the initial amount of money\n",
    "    rate: float - the interest rate\n",
    "    time: int - the time period in terms of number of years\n",
    "\n",
    "    Returns:\n",
    "    float - the compounded interest\n",
    "    \"\"\"\n",
    "\n",
    "    interest = (principal * (1 + rate) ** time) - principal\n",
    "    return interest"
   ]
  },
  {
   "cell_type": "code",
   "execution_count": 8,
   "metadata": {},
   "outputs": [],
   "source": [
    "def simple_interest(principal, rate, time):\n",
    "    \"\"\"\n",
    "    Calculate the simple interest\n",
    "\n",
    "    Parameters:\n",
    "    principal: float - the initial amount of money\n",
    "    rate: float - the interest rate\n",
    "    time: int - the time period in terms of number of years\n",
    "\n",
    "    Returns:\n",
    "    float - the simple interest\n",
    "    \"\"\"\n",
    "\n",
    "    interest = principal * rate * time\n",
    "    return interest"
   ]
  },
  {
   "cell_type": "code",
   "execution_count": null,
   "metadata": {},
   "outputs": [],
   "source": [
    "# sample usage\n",
    "principal = 1000\n",
    "rate = 0.05\n",
    "time = 2\n",
    "\n",
    "compound_interest(principal, rate, time)"
   ]
  },
  {
   "cell_type": "code",
   "execution_count": null,
   "metadata": {},
   "outputs": [],
   "source": [
    "simple_interest(principal, rate, time)"
   ]
  },
  {
   "cell_type": "markdown",
   "metadata": {},
   "source": [
    "### Modules\n",
    "- Modules are used to organize functions, classes, and variables into separate files.\n",
    "- They are created using the `import` keyword followed by the module name.\n",
    "- Modules can be used to import functions, classes, and variables from other files."
   ]
  },
  {
   "cell_type": "code",
   "execution_count": null,
   "metadata": {},
   "outputs": [],
   "source": [
    "!pip install numpy_financial"
   ]
  },
  {
   "cell_type": "code",
   "execution_count": null,
   "metadata": {},
   "outputs": [],
   "source": [
    "import numpy_financial as npf\n",
    "\n",
    "# Parameters\n",
    "gains = npf.fv(rate=rate, nper=time, pmt=0, pv=-principal) - principal\n",
    "print(gains)"
   ]
  },
  {
   "cell_type": "markdown",
   "metadata": {},
   "source": [
    "# Object-Oriented Programming in Python\n",
    "- So far, we have written functions to perform specific tasks. While functions are useful for breaking down complex tasks into smaller, more manageable tasks, they have limitations when it comes to modeling real-world entities.\n",
    "- Managing individual functions can be challenging when working with complex systems that involve multiple functions and data structures.\n",
    "- Object-Oriented Programming (OOP) is a programming paradigm that uses objects to model real-world entities.\n",
    "- OOP allows you to create classes that represent real-world entities and define methods that operate on those classes.\n",
    "- OOP provides a way to bundle data (attributes) and functions (methods) into a single structure (class)"
   ]
  },
  {
   "cell_type": "code",
   "execution_count": 11,
   "metadata": {},
   "outputs": [],
   "source": [
    "class FinancialCalculator:\n",
    "    def __init__(self, principal, rate, time):\n",
    "        \"\"\"\n",
    "        Initialize the FinancialCalculator class.\n",
    "\n",
    "        Parameters:\n",
    "        principal (float): The initial amount of money.\n",
    "        rate (float): The annual interest rate (expressed as a decimal, e.g., 0.05 for 5%).\n",
    "        time (int): The time period in years.\n",
    "        \"\"\"\n",
    "        self.principal = principal\n",
    "        self.rate = rate\n",
    "        self.time = time\n",
    "\n",
    "    def compound_interest(self):\n",
    "        \"\"\"\n",
    "        Calculate compound interest over the time period.\n",
    "\n",
    "        Uses the formula:\n",
    "            A = P * (1 + r) ** t\n",
    "            Interest = A - P\n",
    "\n",
    "        Returns:\n",
    "        float: The compound interest accrued.\n",
    "        \"\"\"\n",
    "        amount = self.principal * (1 + self.rate) ** self.time\n",
    "        interest = amount - self.principal\n",
    "        return interest\n",
    "\n",
    "    def simple_interest(self):\n",
    "        \"\"\"\n",
    "        Calculate simple interest over the time period.\n",
    "\n",
    "        Uses the formula:\n",
    "            Interest = P * r * t\n",
    "\n",
    "        Returns:\n",
    "        float: The simple interest accrued.\n",
    "        \"\"\"\n",
    "        interest = self.principal * self.rate * self.time\n",
    "        return interest\n",
    "\n",
    "    def annuity_future_value(self, payment, annuity_type='ordinary'):\n",
    "        \"\"\"\n",
    "        Calculate the future value of a series of annuity payments.\n",
    "\n",
    "        For an ordinary annuity (payments at the end of each period), the future value is:\n",
    "            FV = Payment * ((1 + r)^t - 1) / r\n",
    "\n",
    "        For an annuity due (payments at the beginning of each period), the future value is:\n",
    "            FV = Payment * ((1 + r)^t - 1) / r * (1 + r)\n",
    "\n",
    "        Parameters:\n",
    "        payment (float): The amount of each annuity payment.\n",
    "        annuity_type (str): The type of annuity, either 'ordinary' or 'due'. \n",
    "                            Defaults to 'ordinary'.\n",
    "\n",
    "        Returns:\n",
    "        float: The future value of the annuity.\n",
    "        \n",
    "        Raises:\n",
    "        ValueError: If annuity_type is not 'ordinary' or 'due'.\n",
    "        \"\"\"\n",
    "        if self.rate == 0:\n",
    "            # Avoid division by zero if the interest rate is 0\n",
    "            fv = payment * self.time\n",
    "        else:\n",
    "            fv = payment * ((1 + self.rate) ** self.time - 1) / self.rate\n",
    "        \n",
    "        if annuity_type.lower() == 'ordinary':\n",
    "            return fv\n",
    "        elif annuity_type.lower() == 'due':\n",
    "            # For annuities due, each payment compounds for an extra period.\n",
    "            return fv * (1 + self.rate)\n",
    "        else:\n",
    "            raise ValueError(\"Invalid annuity type: choose 'ordinary' or 'due'\")\n"
   ]
  },
  {
   "cell_type": "code",
   "execution_count": null,
   "metadata": {},
   "outputs": [],
   "source": [
    "# Usage\n",
    "fc = FinancialCalculator(principal=1000, rate=0.05, time=2)\n",
    "print(fc.compound_interest())\n",
    "print(fc.simple_interest())\n",
    "print(fc.annuity_future_value(100, annuity_type='ordinary'))\n",
    "print(fc.annuity_future_value(100, annuity_type='due'))"
   ]
  },
  {
   "cell_type": "markdown",
   "metadata": {},
   "source": [
    "## OOP Concepts\n",
    "\n",
    "### Classes and Objects\n",
    "- A class is a blueprint for creating objects (instances). It encapsulates data (attributes) and behavior (methods) that operate on that data. \n",
    "- Think of a class as a template or a model for a real-world entity, while an object is an instance of that class.\n",
    "- in the 'FinancialCalculator' class \n",
    "    - the 'principal', 'rate', 'time', and 'compound' are attributes\n",
    "    - the 'compound_interest(), simple_interest(), and annuity_future_value()' methods are the behaviors that operates on those attributes.\n",
    "\n",
    "### Classes vs Modules and Functions\n",
    "- functions encapsulate behavior, while classes encapsulate both data and behavior\n",
    "- modules is a file containing related functions, classes, and variables. Thus, it offers a broader context by grouping functions and classes together\n",
    "\n",
    "### Inheritance\n",
    "- Inheritance is a mechanism where a new class (child or subclass) derives from an existing class (parent or superclass). The subclass inherits attributes and methods from the parent, but can also extend or override them.\n",
    "- Inheritance allows you to reuse code, promote code reuse, and create a hierarchy of classes that represent real-world entities.\n",
    "\n",
    "### Example: Calculating Optimal Quantities using Several Utility Functions"
   ]
  },
  {
   "cell_type": "code",
   "execution_count": 17,
   "metadata": {},
   "outputs": [],
   "source": [
    "class Consumer:\n",
    "    def __init__(self, income, price_good1, price_good2, alpha):\n",
    "        \"\"\"\n",
    "        Initialize the Consumer class.\n",
    "        \n",
    "        Parameters:\n",
    "        income (float): Total income available for consumption.\n",
    "        price_good1 (float): Price of good 1.\n",
    "        price_good2 (float): Price of good 2.\n",
    "        alpha (float): Preference parameter (0 < alpha < 1) for good 1.\n",
    "        \"\"\"\n",
    "        self.income = income\n",
    "        self.price_good1 = price_good1\n",
    "        self.price_good2 = price_good2\n",
    "        self.alpha = alpha\n",
    "\n",
    "    def budget_constraint(self):\n",
    "        \"\"\"\n",
    "        Returns the maximum quantities of each good the consumer can purchase.\n",
    "        \"\"\"\n",
    "        max_good1 = self.income / self.price_good1\n",
    "        max_good2 = self.income / self.price_good2\n",
    "        return max_good1, max_good2\n",
    "\n",
    "    def utility(self, good1, good2):\n",
    "        \"\"\"\n",
    "        Compute the Cobb-Douglas utility for a consumption bundle.\n",
    "        \n",
    "        U = good1^alpha * good2^(1 - alpha)\n",
    "        \"\"\"\n",
    "        return (good1 ** self.alpha) * (good2 ** (1 - self.alpha))\n",
    "\n",
    "    def optimal_consumption(self):\n",
    "        \"\"\"\n",
    "        For a Cobb-Douglas utility function, the optimal consumption can be computed analytically.\n",
    "        \n",
    "        Returns:\n",
    "        tuple: Optimal quantities of good1 and good2.\n",
    "        \"\"\"\n",
    "        # Allocate alpha proportion of income to good1 and (1-alpha) to good2.\n",
    "        good1 = (self.alpha * self.income) / self.price_good1\n",
    "        good2 = ((1 - self.alpha) * self.income) / self.price_good2\n",
    "        return good1, good2"
   ]
  },
  {
   "cell_type": "markdown",
   "metadata": {},
   "source": [
    "The `Consumer` class models the decision-making behavior of a rational consumer. It assumes that consumers maximize their utility subject to a budget constraint, using a **Cobb-Douglas utility function**.\n",
    "\n",
    "#### **1. Class Initialization (`__init__` method)**\n",
    "\n",
    "The class is initialized with:\n",
    "- `income` ($M$): The total amount the consumer can spend.\n",
    "- `price_good1` ($p_1$): The price of good 1.\n",
    "- `price_good2` ($p_2$): The price of good 2.\n",
    "- `alpha` ($\\alpha$): A preference parameter that determines the relative importance of good 1 in the consumer’s utility function. \n",
    "\n",
    "We assume a **Cobb-Douglas utility function**:\n",
    "\n",
    "$ U(x_1, x_2) = x_1^\\alpha \\cdot x_2^{(1 - \\alpha)} $\n",
    "\n",
    "where:\n",
    "- $x_1$ and $x_2$ are the quantities of good 1 and good 2, respectively.\n",
    "- $\\alpha$ represents the fraction of income spent on good 1, and \\(1 - \\alpha\\) is spent on good 2.\n",
    "\n",
    "\n",
    "\n",
    "#### **2. Budget Constraint (`budget_constraint` method)**\n",
    "\n",
    "A consumer’s **budget constraint** in the model is:\n",
    "\n",
    "$ p_1 x_1 + p_2 x_2 = M $\n",
    "where:\n",
    "- $M$ is the total income.\n",
    "- $p_1$ and $p_2$ are the prices of the two goods.\n",
    "- $x_1$ and $x_2$ are the quantities purchased.\n",
    "\n",
    "The method `budget_constraint` computes the maximum amounts of each good the consumer could afford **if all income were spent on just one good**:\n",
    "\n",
    "$x_1^{max} = \\frac{M}{p_1}, \\quad x_2^{max} = \\frac{M}{p_2}$\n",
    "\n",
    "\n",
    "This helps determine the limits of feasible consumption.\n",
    "\n",
    "\n",
    "#### **3. Utility Function (`utility` method)**\n",
    "\n",
    "The `utility` method evaluates the **Cobb-Douglas utility function** for a given consumption bundle ($x_1, x_2$):\n",
    "\n",
    "\n",
    "$U(x_1, x_2) = x_1^\\alpha \\cdot x_2^{(1 - \\alpha)}$\n",
    "\n",
    "This follows from the treatment of consumer preferences, where the Cobb-Douglas function has the following key properties:\n",
    "1. **Monotonicity**: More consumption of both goods increases utility.\n",
    "2. **Diminishing Marginal Rate of Substitution (MRS)**: Consumers trade off one good for another at a decreasing rate.\n",
    "\n",
    "\n",
    "\n",
    "#### **4. Optimal Consumption (`optimal_consumption` method)**\n",
    "\n",
    "To maximize utility, we solve the **Cobb-Douglas consumer problem** subject to the budget constraint. The demand functions for a Cobb-Douglas utility function are:\n",
    "\n",
    "\n",
    "$x_1^* = \\frac{\\alpha M}{p_1}, \\quad x_2^* = \\frac{(1 - \\alpha) M}{p_2}$\n",
    "\n",
    "This allocation ensures that:\n",
    "- A fraction $\\alpha$ of the consumer’s budget is spent on good 1.\n",
    "- A fraction $1 - \\alpha$ is spent on good 2.\n",
    "\n",
    "These demand functions derive from the **Lagrangian optimization** approach, where the consumer maximizes utility subject to the budget constraint.\n"
   ]
  },
  {
   "cell_type": "code",
   "execution_count": null,
   "metadata": {},
   "outputs": [],
   "source": [
    "q1, q2 = Consumer(income=100, price_good1=2, price_good2=1, alpha=0.5).optimal_consumption()\n",
    "print(f\"Optimal consumption: Good 1 = {q1}, Good 2 = {q2}\")"
   ]
  },
  {
   "cell_type": "code",
   "execution_count": 24,
   "metadata": {},
   "outputs": [],
   "source": [
    "class Complements(Consumer):\n",
    "    def __init__(self, income, price_good1, price_good2, a, b):\n",
    "        \"\"\"\n",
    "        Initialize the Complements class.\n",
    "        \n",
    "        Parameters:\n",
    "        a (float): Required proportion of good1.\n",
    "        b (float): Required proportion of good2.\n",
    "        \"\"\"\n",
    "        # The \"alpha\" parameter isn't used for Complements,\n",
    "        # so we can set it to None or a default value.\n",
    "        super().__init__(income, price_good1, price_good2, alpha=0.5)\n",
    "        self.a = a\n",
    "        self.b = b\n",
    "\n",
    "    def utility(self, good1, good2):\n",
    "        \"\"\"\n",
    "        Compute the  utility:\n",
    "        \n",
    "        U = min(good1 / a, good2 / b)\n",
    "        \"\"\"\n",
    "        u = min(good1 / self.a, good2 / self.b)\n",
    "\n",
    "        return u\n",
    "\n",
    "    def optimal_consumption(self):\n",
    "        \"\"\"\n",
    "        For complementary preferences, the consumer will spend their income\n",
    "        to exactly achieve the ratio a:b. The optimal quantities can be\n",
    "        derived from the budget constraint:\n",
    "        \n",
    "        Let good1* = q, and good2* = (b/a) * q. Then:\n",
    "            income = price_good1 * q + price_good2 * (b/a) * q\n",
    "        \"\"\"\n",
    "        q = self.income / (self.price_good1 + (self.price_good2 * self.b / self.a))\n",
    "        good1 = q\n",
    "        good2 = (self.b / self.a) * q\n",
    "        return good1, good2"
   ]
  },
  {
   "cell_type": "markdown",
   "metadata": {},
   "source": [
    "The `Complements` class models a **consumer with complementary preferences**. Unlike Cobb-Douglas preferences, where goods can be freely substituted, this model assumes that goods must be consumed **in fixed proportions**, though not necessarily **one-to-one (perfect complements)**.\n",
    "\n",
    "#### **1. Class Initialization (`__init__` method)**\n",
    "\n",
    "This class extends `Consumer`, but instead of using a **Cobb-Douglas utility function**, it models a consumer who requires **goods in a fixed ratio**. The parameters are:\n",
    "\n",
    "- `income` ($M$): Total money available for spending.\n",
    "- `price_good1` ($p_1$): Price of good 1.\n",
    "- `price_good2` ($p_2$): Price of good 2.\n",
    "- `a` ($a$): The required proportion of good 1.\n",
    "- `b` ($b$): The required proportion of good 2.\n",
    "\n",
    "Unlike the **Cobb-Douglas utility function**, the **\"alpha\" parameter** is irrelevant in this case and is ignored.\n",
    "\n",
    "**Example:**\n",
    "Suppose a consumer must consume **1 unit of good 1** for **3 units of good 2** ($a=1, b=3$). This means that **for every unit of good 1 consumed, 3 units of good 2 must also be consumed**.\n",
    "\n",
    "#### **2. Utility Function (`utility` method)**\n",
    "\n",
    "For complementary goods, utility follows the **Leontief function**:\n",
    "\n",
    "\n",
    "$ U(q_1, q_2) = \\min\\left(\\frac{q_1}{a}, \\frac{q_2}{b}\\right) $\n",
    "\n",
    "This implies:\n",
    "- The consumer's satisfaction is determined by the **scarcer** good in the required ratio.\n",
    "- If too much of one good is available relative to the other, it **does not increase utility**.\n",
    "\n",
    "**Example:**\n",
    "If the consumer has **4 units of good 1** and **10 units of good 2**, and the required ratio is **1:3**, then:\n",
    "\n",
    "\n",
    "$ U(4,10) = \\min\\left(\\frac{4}{1}, \\frac{10}{3}\\right) = \\min(4, 3.33) = 3.33 $\n",
    "\n",
    "Since only **3.33 full sets** can be formed, **the extra unit of good 1 does not increase utility**.\n",
    "\n",
    "## **3. Optimal Consumption (`optimal_consumption` method)**\n",
    "\n",
    "The consumer chooses the **utility-maximizing bundle** while staying within the budget constraint:\n",
    "\n",
    "\n",
    "$ p_1 q_1 + p_2 q_2 = M $\n",
    "\n",
    "Since the consumer always consumes goods **in a fixed ratio**, we express $q_2$ in terms of $q_1$:\n",
    "\n",
    "\n",
    "$ q_2 = \\frac{b}{a} q_1 $\n",
    "\n",
    "Substituting into the budget constraint:\n",
    "\n",
    "\n",
    "$ M = p_1 q_1 + p_2 \\left(\\frac{b}{a} q_1\\right) $\n",
    "\n",
    "Solving for $q_1^*$:\n",
    "\n",
    "\n",
    "$q_1^* = \\frac{M}{p_1 + \\frac{b}{a} p_2}, \\quad q_2^* = \\frac{b}{a} q_1^* $\n",
    "\n",
    "This determines the **optimal quantities of both goods** based on income and prices."
   ]
  },
  {
   "cell_type": "code",
   "execution_count": null,
   "metadata": {},
   "outputs": [],
   "source": [
    "q1, q2 = Complements(income=100, price_good1=2, price_good2=1, a=1, b=3).optimal_consumption()\n",
    "print(f\"Optimal consumption: Good 1 = {q1}, Good 2 = {q2}\")"
   ]
  },
  {
   "cell_type": "code",
   "execution_count": null,
   "metadata": {},
   "outputs": [],
   "source": [
    "# utility\n",
    "u = Complements(income=100, price_good1=2, price_good2=1, a=1, b=3).utility(q1, q2)\n",
    "print(f\"Utility: {u}\")"
   ]
  },
  {
   "cell_type": "markdown",
   "metadata": {},
   "source": [
    "## Sample Hands On\n",
    "- Create a class for substitutes"
   ]
  },
  {
   "cell_type": "code",
   "execution_count": null,
   "metadata": {},
   "outputs": [],
   "source": [
    "# create your class here"
   ]
  },
  {
   "cell_type": "markdown",
   "metadata": {},
   "source": [
    "*Include your explanataions here for the class*"
   ]
  },
  {
   "cell_type": "code",
   "execution_count": null,
   "metadata": {},
   "outputs": [],
   "source": [
    "# create the output here"
   ]
  },
  {
   "cell_type": "markdown",
   "metadata": {},
   "source": [
    "# Coding Best Practices and PEP 8\n",
    "- Coding Style refers to the conventions and guidelines used to write code.\n",
    "\n",
    "## Importance of Coding Style\n",
    "- important to ensure that the code we write is not only functionally correct but also clear, maintainable, and consistent\n",
    "- When our code grows more complex, such as in larger economic models or simulations, good coding practices become essential for both ourselves and others who may read or build upon our work\n",
    "\n",
    "### Folder Management\n",
    "\n",
    "Organizing your code into a clear folder structure is essential for maintaining a scalable and navigable project. Here are some best practices along with examples:\n",
    "\n",
    "- **Organize by Project:**  \n",
    "  Create a dedicated folder for each project. Within that folder, use subfolders to separate different types of files.  \n",
    "  **Example:**"
   ]
  },
  {
   "cell_type": "code",
   "execution_count": null,
   "metadata": {
    "vscode": {
     "languageId": "html"
    }
   },
   "outputs": [],
   "source": [
    "my_project/\n",
    "├── data/\n",
    "│   ├── raw/\n",
    "│   └── processed/\n",
    "├── code/\n",
    "│   ├── scripts/\n",
    "│   └── modules/\n",
    "├── output/\n",
    "│   ├── figures/\n",
    "│   └── reports/\n",
    "└── README.md"
   ]
  },
  {
   "cell_type": "markdown",
   "metadata": {},
   "source": [
    "- Organize your code into folders and subfolders based on \n",
    "- Personal preference:\n",
    "    - Create a folder for each project and subfolders for data, code, and output\n",
    "    - Start a new folder with a name that has a number to keep the folders in order"
   ]
  },
  {
   "cell_type": "code",
   "execution_count": null,
   "metadata": {
    "vscode": {
     "languageId": "html"
    }
   },
   "outputs": [],
   "source": [
    "01_project_proposal/\n",
    "02_data_collection/\n",
    "03_analysis/\n",
    "04_reporting/"
   ]
  },
  {
   "cell_type": "markdown",
   "metadata": {},
   "source": [
    "### File Naming\n",
    "- Use descriptive names for files and folders that clearly describe the file’s purpose or content.  \n",
    "**Example:**  \n",
    "    - Instead of `script.py`, use `data_cleaning.py` or `model_training.py`.\n",
    "    - Instead of `output.txt`, use `results_summary.txt`.\n",
    "- Use lowercase letters and underscores to separate words for readability and to avoid issues on case-sensitive file systems.  \n",
    "**Example:**\n",
    "    - `data_collection.csv`\n",
    "    - `economic_modeling.ipynb`\n",
    "    - `final_report.md`\n",
    "\n",
    "\n",
    "## PEP 8\n",
    "- PEP 8 is the official style guide for Python code\n",
    "- It provides guidelines on how to format Python code for maximum readability\n",
    "- PEP 8 covers topics such as:\n",
    "    - Indentation\n",
    "    - Line length\n",
    "    - Blank lines\n",
    "    - Comments\n",
    "    - Naming conventions\n",
    "    - Imports\n",
    "    - Whitespace\n",
    "    - Expressions and statements\n",
    "    - Programming recommendations"
   ]
  },
  {
   "cell_type": "markdown",
   "metadata": {},
   "source": [
    "### Indentation and White Space\n",
    "- Use 4 spaces for indentation. This ensures that the structure of the code is clear and easy to read."
   ]
  },
  {
   "cell_type": "code",
   "execution_count": 1,
   "metadata": {},
   "outputs": [],
   "source": [
    "def FinancialCalculator(principal, rate, time):\n",
    "    \"\"\"\n",
    "    Calculate the compound interest\n",
    "\n",
    "    Parameters:\n",
    "    principal: float - the initial amount of money\n",
    "    rate: float - the interest rate\n",
    "    time: int - the time period in terms of number of years\n",
    "\n",
    "    Returns:\n",
    "    float - the compounded interest\n",
    "    \"\"\"\n",
    "    interest = (principal * (1 + rate) ** time) - principal\n",
    "    return interest"
   ]
  },
  {
   "cell_type": "markdown",
   "metadata": {},
   "source": [
    "- use blank lines to separate functions, classes, or logical sections of code"
   ]
  },
  {
   "cell_type": "code",
   "execution_count": null,
   "metadata": {},
   "outputs": [],
   "source": [
    "class Complements(Consumer):\n",
    "    def __init__(self, income, price_good1, price_good2, a, b):\n",
    "        \"\"\"\n",
    "        Initialize the Complements class.\n",
    "        \n",
    "        Parameters:\n",
    "        a (float): Required proportion of good1.\n",
    "        b (float): Required proportion of good2.\n",
    "        \"\"\"\n",
    "        # The \"alpha\" parameter isn't used for Complements,\n",
    "        # so we can set it to None or a default value.\n",
    "        super().__init__(income, price_good1, price_good2, alpha=0.5)\n",
    "        self.a = a\n",
    "        self.b = b\n",
    "\n",
    "    def utility(self, good1, good2):\n",
    "        \"\"\"\n",
    "        Compute the  utility:\n",
    "        \n",
    "        U = min(good1 / a, good2 / b)\n",
    "        \"\"\"\n",
    "        u = min(good1 / self.a, good2 / self.b)\n",
    "\n",
    "        return u\n",
    "\n",
    "    def optimal_consumption(self):\n",
    "        \"\"\"\n",
    "        For complementary preferences, the consumer will spend their income\n",
    "        to exactly achieve the ratio a:b. The optimal quantities can be\n",
    "        derived from the budget constraint:\n",
    "        \n",
    "        Let good1* = q, and good2* = (b/a) * q. Then:\n",
    "            income = price_good1 * q + price_good2 * (b/a) * q\n",
    "        \"\"\"\n",
    "        q = self.income / (self.price_good1 + (self.price_good2 * self.b / self.a))\n",
    "        good1 = q\n",
    "        good2 = (self.b / self.a) * q\n",
    "        return good1, good2"
   ]
  },
  {
   "cell_type": "markdown",
   "metadata": {},
   "source": [
    "- trailing whitespace should be avoided\n",
    "\n",
    "### Naming Conventions\n",
    "\n",
    "#### Variables and Functions\n",
    "- Use lowercase letters and underscores to separate words"
   ]
  },
  {
   "cell_type": "code",
   "execution_count": 3,
   "metadata": {},
   "outputs": [],
   "source": [
    "def calculate_interest(principal, rate, time):\n",
    "    \"\"\"\n",
    "    Calculate the compound interest\n",
    "\n",
    "    Parameters:\n",
    "    principal: float - the initial amount of money\n",
    "    rate: float - the interest rate\n",
    "    time: int - the time period in terms of number of years\n",
    "\n",
    "    Returns:\n",
    "    float - the compounded interest\n",
    "    \"\"\"\n",
    "    interest = (principal * (1 + rate) ** time) - principal\n",
    "    return interest"
   ]
  },
  {
   "cell_type": "markdown",
   "metadata": {},
   "source": [
    "#### Classes\n",
    "- Use the CapWords convention"
   ]
  },
  {
   "cell_type": "code",
   "execution_count": 4,
   "metadata": {},
   "outputs": [],
   "source": [
    "class FinancialCalculator:\n",
    "    def __init__(self, principal, rate, time):\n",
    "        \"\"\"\n",
    "        Initialize the FinancialCalculator class.\n",
    "\n",
    "        Parameters:\n",
    "        principal (float): The initial amount of money.\n",
    "        rate (float): The annual interest rate (expressed as a decimal, e.g., 0.05 for 5%).\n",
    "        time (int): The time period in years.\n",
    "        \"\"\"\n",
    "        self.principal = principal\n",
    "        self.rate = rate\n",
    "        self.time = time\n",
    "    \n",
    "    def compound_interest(self):\n",
    "        \"\"\"\n",
    "        Calculate compound interest over the time period.\n",
    "\n",
    "        Uses the formula:\n",
    "            A = P * (1 + r) ** t\n",
    "            Interest = A - P\n",
    "\n",
    "        Returns:\n",
    "        float: The compound interest accrued.\n",
    "        \"\"\"\n",
    "        amount = self.principal * (1 + self.rate) ** self.time\n",
    "        interest = amount - self.principal\n",
    "        return interest\n",
    "    \n",
    "    def simple_interest(self):\n",
    "        \"\"\"\n",
    "        Calculate simple interest over the time period.\n",
    "\n",
    "        Uses the formula:\n",
    "            Interest = P * r * t\n",
    "\n",
    "        Returns:\n",
    "        float: The simple interest accrued.\n",
    "        \"\"\"\n",
    "        interest = self.principal * self.rate * self.time\n",
    "        return interest"
   ]
  },
  {
   "cell_type": "markdown",
   "metadata": {},
   "source": [
    "#### Constants\n",
    "- Use all uppercase letters and underscores to separate words\n",
    "- These constants are usually used for values that do not change throughout the program\n",
    "- Usually defined at the beginning of the file so that it is easy to find and update them\n",
    "- constants can also be used as a default value for a parameter in a function or method"
   ]
  },
  {
   "cell_type": "code",
   "execution_count": null,
   "metadata": {},
   "outputs": [],
   "source": [
    "MAX_ITERATIONS = 1000  # Used to prevent infinite loops in case of errors\n",
    "DEFAULT_RATE = 0.01   # Default interest rate if not provided"
   ]
  },
  {
   "cell_type": "markdown",
   "metadata": {},
   "source": [
    "### Line Length and Code Layout\n",
    "\n",
    "#### Maximum Line Length\n",
    "- Limit lines to a maximum of 79 characters\n",
    "- if a line is too long, it can be split into multiple lines using parentheses\n",
    "- this is to ensure that the code does not require horizontal scrolling\n",
    "\n",
    "- Bad practice: "
   ]
  },
  {
   "cell_type": "code",
   "execution_count": null,
   "metadata": {},
   "outputs": [],
   "source": [
    "def long_function_name(variable_one, variable_two, variable_three,variable_four):\n",
    "    \"\"\"A function with a very long parameter list.\"\"\"\n",
    "    return (variable_one + variable_two + variable_three + variable_four)"
   ]
  },
  {
   "cell_type": "code",
   "execution_count": null,
   "metadata": {},
   "outputs": [],
   "source": [
    "def long_function_name(\n",
    "        variable_one, variable_two, \n",
    "        variable_three,variable_four\n",
    "        ):\n",
    "    \"\"\"\n",
    "    A function with a very long parameter list.\n",
    "    \"\"\"\n",
    "    return (variable_one + variable_two + \n",
    "            variable_three + variable_four)"
   ]
  },
  {
   "cell_type": "markdown",
   "metadata": {},
   "source": [
    "#### Line Breaks\n",
    "- Use parentheses to break long lines\n",
    "- you can use implicit line continuation inside parentheses, brackets, and braces"
   ]
  },
  {
   "cell_type": "code",
   "execution_count": null,
   "metadata": {},
   "outputs": [],
   "source": [
    "result = (\n",
    "    calculate_interest(1000, 0.05, 2) +\n",
    "    calculate_interest(2000, 0.03, 1)\n",
    ")\n",
    "\n",
    "print(result)"
   ]
  },
  {
   "cell_type": "markdown",
   "metadata": {},
   "source": [
    "### Comments and Docstrings\n",
    "\n",
    "#### Inline Comments\n",
    "- Use inline comments to explain complex code or to provide additional context\n",
    "- use it sparingly. They should be brief and to the point"
   ]
  },
  {
   "cell_type": "code",
   "execution_count": null,
   "metadata": {},
   "outputs": [],
   "source": [
    "compound_interest(1000, 0.05, 2) # Calculate the compound interest"
   ]
  },
  {
   "cell_type": "markdown",
   "metadata": {},
   "source": [
    "#### Block Comments\n",
    "- Use block comments to provide an overview of a section of code\n",
    "- use block comments to explain the purpose of a function, class, or module\n",
    "- they should be indented to the same level as the code they are commenting on"
   ]
  },
  {
   "cell_type": "code",
   "execution_count": 18,
   "metadata": {},
   "outputs": [],
   "source": [
    "def simple_interest(principal, rate, time):\n",
    "    \"\"\"\n",
    "    Calculate the simple interest\n",
    "    \"\"\"\n",
    "\n",
    "    interest = principal * rate * time\n",
    "    return interest"
   ]
  },
  {
   "cell_type": "markdown",
   "metadata": {},
   "source": [
    "#### Docstrings\n",
    "- Use docstrings to provide documentation for public modules, classes, and functions to describe what they do, how they work, and how they should be used\n",
    "- describe the purpose of the function, the parameters it takes, and the value it returns"
   ]
  },
  {
   "cell_type": "code",
   "execution_count": null,
   "metadata": {},
   "outputs": [],
   "source": [
    "def simple_interest(principal, rate, time):\n",
    "    \"\"\"\n",
    "    Calculate the simple interest\n",
    "\n",
    "    Parameters:\n",
    "    principal: float - the initial amount of money\n",
    "    rate: float - the interest rate\n",
    "    time: int - the time period in terms of number of years\n",
    "\n",
    "    Returns:\n",
    "    float - the simple interest\n",
    "    \"\"\"\n",
    "\n",
    "    interest = principal * rate * time\n",
    "    return interest"
   ]
  },
  {
   "cell_type": "markdown",
   "metadata": {},
   "source": [
    "### Imports\n",
    "\n",
    "#### Ordering of Imports\n",
    "- Imports should be grouped in the following order:\n",
    "    - Standard library imports\n",
    "    - Related third-party imports\n",
    "    - Local application/library-specific imports"
   ]
  },
  {
   "cell_type": "code",
   "execution_count": null,
   "metadata": {},
   "outputs": [],
   "source": [
    "# Standard library imports\n",
    "import os\n",
    "import sys\n",
    "\n",
    "# Third-party imports\n",
    "import numpy as np\n",
    "import pandas as pd\n",
    "\n",
    "# Local application/library specific imports\n",
    "from my_module import my_function"
   ]
  },
  {
   "cell_type": "markdown",
   "metadata": {},
   "source": [
    "### White Spaces in Expressions and Statements\n",
    "- avoid extraneous whitespace in expressions and statements"
   ]
  },
  {
   "cell_type": "code",
   "execution_count": null,
   "metadata": {},
   "outputs": [],
   "source": [
    "# Incorrect:\n",
    "x  =  1\n",
    "y  =2\n",
    "z=x + y\n",
    "\n",
    "# Correct:\n",
    "x = 1\n",
    "y = 2\n",
    "z = x + y"
   ]
  },
  {
   "cell_type": "markdown",
   "metadata": {},
   "source": [
    "# Version Control Basics\n",
    "\n",
    "## What is Version Control?\n",
    "- Version control is a system that records changes to a file or set of files over time so that you can recall specific versions later\n",
    "- It allows you to track changes to your code, collaborate with others, and revert to previous versions if needed\n",
    "- Version control systems are essential for managing code and data in a collaborative environment\n",
    "\n",
    "## Why Use Version Control?\n",
    "- Track changes to your code\n",
    "- Collaborate with others\n",
    "- Revert to previous versions\n",
    "- Manage code and data in a collaborative environment\n",
    "\n",
    "## Git and GitHub\n",
    "\n",
    "### Git\n",
    "- Git is a distributed version control system that allows you to track changes to your code and collaborate with others\n",
    "- it is like a GoogleDrive with \"track changes\" feature\n",
    "\n",
    "### GitHub\n",
    "- GitHub is a web-based platform that allows you to host and share your code with others\n",
    "\n",
    "### Git(Hub) for Academia\n",
    "- Git(Hub) helps operationalize the research process through version control, collaboration, and reproducibility\n",
    "- it allows you to track changes to your code, collaborate with others, and share your work with the research community\n",
    "- Journals and publishers are increasingly requiring authors to share their code and data to promote transparency and reproducibility\n",
    "\n",
    "### Basic Git Terminology\n",
    "- Repository: A repository is like a folder that contains all the files and folders for your project\n",
    "- Commit: A commit is a snapshot of your repository at a specific point in time\n",
    "- Branch: A branch is a parallel version of your repository that allows you to work on new features or fixes without affecting the main codebase\n",
    "- Pull Request: A pull request is a request to merge changes from one branch into another\n",
    "- Merge: A merge is the process of combining changes from one branch into another\n",
    "- Clone: A clone is a copy of a repository that lives on your local machine\n",
    "- Fork: A fork is a copy of a repository that allows you to make changes without affecting the original repository\n",
    "- Issue: An issue is a task, bug, or feature request that can be tracked in a repository\n",
    "\n"
   ]
  },
  {
   "cell_type": "markdown",
   "metadata": {},
   "source": [
    "### Main Git Operations\n",
    "Once you have set up Git on your local machine, you can perform the following operations:\n",
    "\n",
    "1. Stage Changes: `git add`\n",
    "    -  when you want to add changes to the repository's history such as new files, modified files, or deleted files\n",
    "2. Commit Changes: `git commit`\n",
    "    - When you want to save changes to the repository\n",
    "3. Pull Changes: `git pull`\n",
    "    - When you want to fetch and merge changes from a remote repository\n",
    "    - you use this in case another collaborator has made changes to the repository\n",
    "4. Push Changes: `git push`\n",
    "    - When you want to send your *committed* changes to the repository on GitHub\n",
    "\n",
    "### Git Workflow\n",
    "- The typical Git workflow involves the following steps:\n",
    "    1. Clone the repository: `git clone`\n",
    "    2. Make changes to the code\n",
    "    3. Stage changes: `git add`\n",
    "    4. Commit changes: `git commit`\n",
    "    5. Pull changes: `git pull`\n",
    "    6. Push changes: `git push`\n",
    "\n",
    "Note: always pull changes before pushing changes to avoid conflicts."
   ]
  }
 ],
 "metadata": {
  "kernelspec": {
   "display_name": ".venv",
   "language": "python",
   "name": "python3"
  },
  "language_info": {
   "codemirror_mode": {
    "name": "ipython",
    "version": 3
   },
   "file_extension": ".py",
   "mimetype": "text/x-python",
   "name": "python",
   "nbconvert_exporter": "python",
   "pygments_lexer": "ipython3",
   "version": "3.13.1"
  }
 },
 "nbformat": 4,
 "nbformat_minor": 2
}

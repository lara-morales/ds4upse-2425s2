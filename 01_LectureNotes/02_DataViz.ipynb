{
 "cells": [
  {
   "cell_type": "markdown",
   "metadata": {},
   "source": [
    "# **Module 2: Data Wrangling, Exploratory Data Analysis (EDA), and Data Visualization**"
   ]
  },
  {
   "cell_type": "markdown",
   "metadata": {},
   "source": [
    "# Recap: Data Wrangling and Data Frames\n",
    "- Data Preparation is important to ensure *accuracy* and *consistency* in the data. \n",
    "- It involves cleaning, structuring, and enriching raw data into a desired format for better decision-making in less time.\n",
    "- These are very important in economics because unclean data may lead to misleading insights and incorrect policy deceisions\n",
    "\n",
    "## What we have covered so far..\n",
    "- **Data Wrangling** is the process of converting data from the initial format to a format that may be better for analysis.\n",
    "- **Data Frames** are the central data structure in the pandas API. It is a two-dimensional size-mutable, potentially heterogeneous tabular data structure with labeled axes (rows and columns).\n",
    "\n",
    "### Creating and Loading Data Frames\n",
    "- constructing a DataFrame from a dictionary, CSV files, or built-in datasets from packages\n",
    "- loading data from a CSV file using `pd.read_csv()` function\n",
    "- displaying the first few rows of a DataFrame using `df.head()` to have some idea about the data\n",
    "\n",
    "### Exploring and Cleaning the Data\n",
    "- we can use .info() method to get a quick description of the data, in particular the total number of rows, and each attribute’s type and number of non-null values\n",
    "- Handling missing values using `df.dropna()`, `df.fillna()`, or `df.interpolate()`\n",
    "- filtering and creating subsets of data using conditional operations\n",
    "\n",
    "### Data Transformation\n",
    "- Add and modify columns through feature engineering\n",
    "    - example: interaction terms, polynomial features, etc.\n",
    "    - you can also log-transform the data using `np.log()`\n",
    "- merging datasets to combine multiple sources of information\n",
    "\n",
    "### Basic Data Visualization\n",
    "- using matplotlib and seaborn to create basic plots such as histograms"
   ]
  },
  {
   "cell_type": "markdown",
   "metadata": {},
   "source": [
    "## Important Functions\n",
    "\n",
    "### read_csv\n",
    "- `pd.read_csv()`: read data from a CSV file\n",
    "- **Default:**\n",
    "  ```python\n",
    "  pd.read_csv(filepath_or_buffer, *, sep=<no_default>, delimiter=None, header='infer', names=<no_default>, \n",
    "              index_col=None, usecols=None, dtype=None, engine=None, converters=None, true_values=None, \n",
    "              false_values=None, skipinitialspace=False, skiprows=None, skipfooter=0, nrows=None, na_values=None, \n",
    "              keep_default_na=True, na_filter=True, verbose=<no_default>, skip_blank_lines=True, parse_dates=None, \n",
    "              infer_datetime_format=<no_default>, keep_date_col=<no_default>, date_parser=<no_default>, \n",
    "              date_format=None, dayfirst=False, cache_dates=True, iterator=False, chunksize=None, \n",
    "              compression='infer', thousands=None, decimal='.', lineterminator=None, quotechar='\"', quoting=0, \n",
    "              doublequote=True, escapechar=None, comment=None, encoding=None, encoding_errors='strict', \n",
    "              dialect=None, on_bad_lines='error', delim_whitespace=<no_default>, low_memory=True, \n",
    "              memory_map=False, float_precision=None, storage_options=None, dtype_backend=<no_default>)\n",
    "  ```\n",
    "- **Key Parameters:**\n",
    "  - `filepath_or_buffer`: str, path object, or file-like object. Usually, the path to the file.\n",
    "  - `sep`: Separator, default is `','` (comma).\n",
    "  - `delimiter`: Alternative argument name for `sep`.\n",
    "  - `header`: Row number(s) to use as column names, default is `'infer'` (uses the first row).\n",
    "  - `names`: List of column names to use, default is `None`.\n",
    "  - `index_col`: Column(s) to set as index (can be a single column or list of columns), default is `None`.\n",
    "  - `usecols`: List of columns to use, default is `None`.\n",
    "  - `dtype`: Data type for columns, default is `None`.\n",
    "  - `na_values`: Additional strings to recognize as NA/NaN, default is `None`.\n",
    "  - `skiprows`: Number of rows to skip at the start of the file, default is `None`.\n",
    "  - `nrows`: Number of rows to read at the start of the file, default is `None`.\n",
    "  - `encoding`: Encoding to use for UTF when reading/writing, default is `None`.\n",
    "  - `thousands`: Thousands separator, default is `None`.\n",
    "  - `decimal`: Character to recognize as decimal point, default is `'.'`.\n",
    "  - `quotechar`: Character to recognize as quote, default is `'\"'`.\n",
    "  - `quoting`: Control field quoting behavior, default is `0`.\n",
    "  - `skip_blank_lines`: Skip empty lines, default is `True`.\n",
    "  - `parse_dates`: List of columns to parse as dates, default is `None`.\n",
    "  - `infer_datetime_format`: Infer datetime format, default is `False`.\n",
    "  - `keep_date_col`: Keep the date columns, default is `False`.\n",
    "  - `date_parser`: Function to use for converting a sequence of string columns to an array of datetime instances, default is `None`.\n",
    "  - `dayfirst`: DD/MM format dates, default is `False`.\n",
    "  - `compression`: Compression mode among `{'infer', 'gzip', 'bz2', 'zip', 'xz', None}`, default is `'infer'`.\n",
    "  - `lineterminator`: Character to break file into lines, default is `None`.\n",
    "  - `doublequote`: Character to recognize as quote, default is `True`.\n",
    "  - `escapechar`: Character to recognize as escape, default is `None`.\n",
    "  - `comment`: Character to recognize as comment, default is `None`.\n",
    "  - `encoding_errors`: Error handling for encoding, default is `'strict'`.\n",
    "  - `dialect`: Dialect of the CSV file, default is `None`.\n",
    "  - `on_bad_lines`: Behavior when bad lines are encountered, default is `'error'`.\n",
    "  - `delim_whitespace`: Use whitespace as the delimiter, default is `False`.\n",
    "  - `low_memory`: Use low memory mode, default is `True`.\n",
    "  - `memory_map`: Use memory map, default is `False`.\n",
    "  - `float_precision`: Precision for output floats, default is `None`.\n",
    "  - `storage_options`: Extra options for storage, default is `None`.\n",
    "  - `dtype_backend`: Data type for data or columns, default is `None`.\n",
    "\n",
    "---\n",
    "\n",
    "### .info()\n",
    "- `df.info()`: Display a summary of the DataFrame.\n",
    "- **Default:**\n",
    "  ```python\n",
    "  df.info(verbose=None, buf=None, memory_usage=None, show_counts=None)\n",
    "  ```\n",
    "- **Key Parameters:**\n",
    "  - `verbose`: Whether to show full summary.\n",
    "  - `buf`: File or buffer to write output to.\n",
    "  - `memory_usage`: Show memory usage.\n",
    "  - `show_counts`: Whether to display non-null counts.\n",
    "\n",
    "---\n",
    "\n",
    "### .describe()\n",
    "- `df.describe()`: Generate summary statistics for numerical/categorical data.\n",
    "- **Default:**\n",
    "  ```python\n",
    "  df.describe(percentiles=None, include=None, exclude=None)\n",
    "  ```\n",
    "- **Key Parameters:**\n",
    "  - `percentiles`: List of percentiles to compute.\n",
    "  - `include`: Data types to include.\n",
    "  - `exclude`: Data types to exclude.\n",
    "\n",
    "---\n",
    "\n",
    "### .value_counts()\n",
    "- `df.value_counts()`: Count unique values in a column.\n",
    "- **Default:**\n",
    "  ```python\n",
    "  df.value_counts(normalize=False, sort=True, ascending=False, dropna=True)\n",
    "  ```\n",
    "- **Key Parameters:**\n",
    "  - `normalize`: Return relative frequencies instead of counts.\n",
    "  - `sort`: Whether to sort values.\n",
    "  - `ascending`: If `True`, sorts in ascending order.\n",
    "  - `dropna`: Whether to include NaN values.\n",
    "\n",
    "---\n",
    "\n",
    "### .dropna()\n",
    "- `df.dropna()`: Remove missing values from DataFrame.\n",
    "- **Default:**\n",
    "  ```python\n",
    "  df.dropna(axis=0, how='any', thresh=None, subset=None, inplace=False)\n",
    "  ```\n",
    "- **Key Parameters:**\n",
    "  - `axis`: 0 for rows, 1 for columns.\n",
    "  - `how`: `'any'` (drop if any NaN) or `'all'` (drop if all NaN).\n",
    "  - `thresh`: Minimum non-NaN values required to keep row/column.\n",
    "  - `subset`: Specify columns/rows to check.\n",
    "\n",
    "---\n",
    "\n",
    "### .merge()\n",
    "- `pd.merge()`: Merge two DataFrames.\n",
    "- **Default:**\n",
    "  ```python\n",
    "  pd.merge(left, right, how='inner', on=None, left_on=None, right_on=None, suffixes=('_x', '_y'))\n",
    "  ```\n",
    "- **Key Parameters:**\n",
    "  - `left`: Left DataFrame.\n",
    "  - `right`: Right DataFrame.\n",
    "  - `how`: Type of join (`'inner'`, `'outer'`, `'left'`, `'right'`).\n",
    "  - `on`: Column to merge on.\n",
    "  - `suffixes`: Suffixes for overlapping column names.\n",
    "\n",
    "---"
   ]
  },
  {
   "cell_type": "markdown",
   "metadata": {},
   "source": [
    "# Lecture 2: Data Visualization for Economists\n",
    "**Objectives:**\n",
    "- Introduction to **data visualization techniques** in Python.\n",
    "- Learn **effective storytelling with data** for economic research.\n",
    "- Learn **creating interactive & geographic visualizations.**\n",
    "\n",
    "### Why is Data Visualization Important in Economics?\n",
    "- Visualization is a powerful tool for communicating economic concepts and data insights.\n",
    "- It helps to communicate trends and distributions in the data clearly and effectively.\n",
    "- Example: Income inequality can be easily visualized using a Lorenz curve."
   ]
  },
  {
   "cell_type": "code",
   "execution_count": 5,
   "metadata": {},
   "outputs": [],
   "source": [
    "import pandas as pd\n",
    "\n",
    "path = \"/Users/moxballo/Library/Mobile Documents/com~apple~CloudDocs/Documents/UPSE/AY202425_2 Econ 198/\"\n",
    "apis_path = path + \"03_data/PHL-PSA-APIS-2022-PUF/\"\n",
    "hh_rec = pd.read_csv(apis_path + \"APIS PUF 2022 Household Record.CSV\")\n",
    "apis_rtk = pd.read_csv(apis_path + \"APIS PUF 2022 RTK - Other Relevant Information.CSV\", on_bad_lines='skip')"
   ]
  },
  {
   "cell_type": "code",
   "execution_count": null,
   "metadata": {},
   "outputs": [],
   "source": [
    "apis_df = pd.merge(hh_rec, apis_rtk, on=['HHID','REG'], how='left')\n",
    "apis_df.info()"
   ]
  },
  {
   "cell_type": "code",
   "execution_count": 7,
   "metadata": {},
   "outputs": [],
   "source": [
    "apis_clean = apis_df.dropna(subset=['K5'])"
   ]
  },
  {
   "cell_type": "markdown",
   "metadata": {},
   "source": [
    "### Activity: Create Lorenz Curve\n",
    "- A Lorenz curve is a graphical representation of the distribution of income or wealth.\n",
    "- It plots the cumulative share of total income received by the bottom x% of the people against the cumulative share of the population.\n",
    "- Using the APIS data, we can create a Lorenz curve to visualize income inequality in the Philippines."
   ]
  },
  {
   "cell_type": "code",
   "execution_count": null,
   "metadata": {},
   "outputs": [],
   "source": [
    "# rename 'K5' to 'hh_inc'\n",
    "apis_clean.rename(columns={'K5':'hh_inc'}, inplace=True)"
   ]
  },
  {
   "cell_type": "code",
   "execution_count": null,
   "metadata": {},
   "outputs": [],
   "source": [
    "import numpy as np\n",
    "import matplotlib.pyplot as plt\n",
    "\n",
    "# Sort income data and compute cumulative distribution\n",
    "income = np.sort(apis_clean['hh_inc'].values)\n",
    "cum_income = np.cumsum(income) / np.sum(income)\n",
    "pop_percent = np.arange(1, len(income) + 1) / len(income)\n",
    "\n",
    "# Plot Lorenz Curve\n",
    "fig, ax = plt.subplots(figsize=(8, 6))\n",
    "ax.plot(pop_percent, cum_income, label=\"Lorenz Curve\", color='blue') # pop_percent on x-axis, cum_income on y-axis\n",
    "ax.plot([0, 1], [0, 1], linestyle='--', color='red', label=\"Line of Equality\") # 45-degree line to represent perfect equality\n",
    "ax.fill_between(pop_percent, cum_income, pop_percent, color='blue', alpha=0.3, label=\"Inequality Area\")\n",
    "ax.set_xlabel(\"Cumulative Population Share\")\n",
    "ax.set_ylabel(\"Cumulative Income Share\")\n",
    "ax.set_title(\"Lorenz Curve of Household Income Inequality\")\n",
    "ax.legend()\n",
    "plt.grid()"
   ]
  },
  {
   "cell_type": "markdown",
   "metadata": {},
   "source": [
    "### **📌 Explanation of Key Components**\n",
    "#### **1️⃣ Setting Up the Plot**\n",
    "- `fig, ax = plt.subplots(figsize=(8, 6))`\n",
    "  - Creates a figure (`fig`) and an axis (`ax`) object.\n",
    "  - `figsize=(8,6)`: Sets the figure size to 8x6 inches.\n",
    "\n",
    "#### **2️⃣ Plotting the Lorenz Curve**\n",
    "- `ax.plot(pop_percent, cum_income, label=\"Lorenz Curve\", color='blue')`\n",
    "  - **X-axis**: `pop_percent` → Cumulative population share.\n",
    "  - **Y-axis**: `cum_income` → Cumulative income share.\n",
    "  - **Color**: `'blue'` (to distinguish it from the Line of Equality).\n",
    "  - **Label**: `\"Lorenz Curve\"` (for the legend).\n",
    "\n",
    "#### **3️⃣ Adding the Line of Equality**\n",
    "- `ax.plot([0, 1], [0, 1], linestyle='--', color='red', label=\"Line of Equality\")`\n",
    "  - Creates a **dashed red line** from (0,0) to (1,1).\n",
    "  - This represents a scenario where **income is evenly distributed**.\n",
    "  - **Label**: `\"Line of Equality\"` (for the legend).\n",
    "\n",
    "#### **4️⃣ Filling the Inequality Area**\n",
    "- `ax.fill_between(pop_percent, cum_income, pop_percent, color='blue', alpha=0.3, label=\"Inequality Area\")`\n",
    "  - **Shades the gap between the Lorenz Curve and the Line of Equality**.\n",
    "  - **Why?** This area represents **income inequality**—the larger the shaded area, the greater the inequality.\n",
    "  - **`alpha=0.3`**: Adds transparency for better visibility.\n",
    "\n",
    "#### **5️⃣ Adding Labels and Title**\n",
    "- `ax.set_xlabel(\"Cumulative Population Share\")`\n",
    "  - X-axis label: Represents the percentage of the population (sorted by income).\n",
    "- `ax.set_ylabel(\"Cumulative Income Share\")`\n",
    "  - Y-axis label: Represents the cumulative share of total income.\n",
    "- `ax.set_title(\"Lorenz Curve of Household Income Inequality\")`\n",
    "  - Title for context.\n",
    "\n",
    "#### **6️⃣ Adding a Legend**\n",
    "- `ax.legend()`\n",
    "  - Displays the labels (\"Lorenz Curve\", \"Line of Equality\", \"Inequality Area\").\n",
    "\n",
    "#### **7️⃣ Enhancing Readability**\n",
    "- `plt.grid()`\n",
    "  - Adds grid lines for easier interpretation.\n",
    "\n",
    "---\n",
    "\n",
    "### **📌 Interpretation of the Lorenz Curve**\n",
    "- If the **Lorenz Curve is close to the Line of Equality**, **income is more evenly distributed**.\n",
    "- If the **Lorenz Curve is highly curved**, **income is concentrated among the wealthy**.\n",
    "- The **Gini Coefficient** (computed from the Lorenz Curve) quantifies the degree of inequality.\n",
    "\n",
    "---\n",
    "\n",
    "### **📌 Example Output**\n",
    "📈 **A Lorenz Curve for Household Income Inequality:**\n",
    "- **A highly curved Lorenz Curve → high income inequality**.\n",
    "- **A Lorenz Curve close to the Line of Equality → low income inequality**.\n",
    "\n",
    "\n",
    "\n"
   ]
  },
  {
   "cell_type": "code",
   "execution_count": null,
   "metadata": {},
   "outputs": [],
   "source": [
    "# Compute Gini Index\n",
    "lorenz_area = np.trapezoid(cum_income, pop_percent)  # Compute the area under the Lorenz curve\n",
    "print(\"Area of Inequality:\", lorenz_area)"
   ]
  },
  {
   "cell_type": "markdown",
   "metadata": {},
   "source": [
    "`np.trapezoid()` function can be used to calculate the area under the curve. Its parameters are the x and y values of the curve."
   ]
  },
  {
   "cell_type": "code",
   "execution_count": null,
   "metadata": {},
   "outputs": [],
   "source": [
    "gini_coeff = (0.5 - lorenz_area) / 0.5  # Compute the Gini coefficient\n",
    "print(\"Gini Coefficient:\", gini_coeff)"
   ]
  },
  {
   "cell_type": "markdown",
   "metadata": {},
   "source": [
    "### Real World Applications of Data Visualization in Economics\n",
    "\n",
    "1. Illustrating income nequality\n",
    "2. Visualizing trends in economic indicators such as inflation, GDP growth, etc. using time series plots\n",
    "3. Global GDP distribution using a choropleth map\n",
    "4. Visualizing market dynamics using scatter plots and heatmaps to identify patterns and correlations\n",
    "\n",
    "### Discussion:\n",
    "- Why do some economic indicators need visualization instead of just tables?\n",
    "- How can bad visualizations mislead economic decision-making?"
   ]
  },
  {
   "cell_type": "markdown",
   "metadata": {},
   "source": [
    "## Types of Economic Data Visualizations in Python\n",
    "\n",
    "1. Time Series Plots\n",
    "    - Line plots\n",
    "    - use case: inflation rates over time, GDP growth rates, stock market trends\n",
    "2. Geographic Visualizations\n",
    "    - Choropleth maps - show which regions suffer from high unemployment rates, poverty rates, etc.\n",
    "    - use case: global GDP distribution, poverty rates by country\n",
    "3. Distributions\n",
    "    - Histograms and KDE (Kernel Density Estimation) plots\n",
    "    - use case: income distribution, wealth distribution\n",
    "4. Scatter Plots\n",
    "    - show relationships between two variables\n",
    "    - use case: relationship between GDP and life expectancy, inflation and unemployment rates"
   ]
  },
  {
   "cell_type": "markdown",
   "metadata": {},
   "source": [
    "## Good vs. Bad Data Visualization\n",
    "### Bad Data Visualization\n",
    "- Overcrowded with too many elements\n",
    "- Poor color contrast (e.g., red-green for colorblind users)\n",
    "- Misleading scales or axes"
   ]
  },
  {
   "cell_type": "code",
   "execution_count": null,
   "metadata": {},
   "outputs": [],
   "source": [
    "import matplotlib.pyplot as plt\n",
    "import matplotlib.image as mpimg\n",
    "\n",
    "# Define the image path\n",
    "overelem = path + \"05_images/02_01_BadVizOver.png\"\n",
    "\n",
    "# Load and display the image\n",
    "img = mpimg.imread(overelem)\n",
    "plt.imshow(img)\n",
    "plt.axis('off')  # Hide axes\n",
    "plt.show()\n"
   ]
  },
  {
   "cell_type": "code",
   "execution_count": null,
   "metadata": {},
   "outputs": [],
   "source": [
    "scale = path + \"05_images/02_01_scaleprob.png\"\n",
    "img = mpimg.imread(scale)\n",
    "plt.imshow(img)\n",
    "plt.axis('off')"
   ]
  },
  {
   "cell_type": "code",
   "execution_count": null,
   "metadata": {},
   "outputs": [],
   "source": [
    "misleading = path + \"05_images/02_01_badviz_misleading.jpg\"\n",
    "img = mpimg.imread(misleading)\n",
    "plt.imshow(img)\n",
    "plt.axis('off')"
   ]
  },
  {
   "cell_type": "markdown",
   "metadata": {},
   "source": [
    "# Good Visualization\n",
    "- Clear and concise\n",
    "- Uses appropriate colors and scales for fair comparisons\n",
    "- Uses labels and legends effectively\n",
    "- removes clutter and unnecessary elements to provide key insights\n"
   ]
  },
  {
   "cell_type": "markdown",
   "metadata": {},
   "source": [
    "## Python’s Visualization Ecosystem\n",
    "\n",
    "### Python Libraries for Data Visualization in Economics\n",
    "1. **Matplotlib**\n",
    "    - The most widely used library for creating static, animated, and interactive plots.\n",
    "    - Provides a MATLAB-like interface for creating plots.\n",
    "    - Static plots: bar plots, line plots, scatter plots, etc.\n",
    "2. **Seaborn**\n",
    "    - Built on top of Matplotlib, it provides a high-level interface for creating attractive and informative statistical graphics.\n",
    "    - Statistical Visualizations (Histograms, KDE, Boxplots) and Regression Plots\n",
    "    - Ideal for creating complex visualizations with minimal code.\n",
    "    - Heatmaps, violin plots, pair plots, etc.\n",
    "3. **Plotly**\n",
    "    - An interactive plotting library that allows users to create interactive plots and dashboards.\n",
    "    - Interactive plots, 3D plots, and geographic visualizations.\n",
    "    - Ideal for creating web-based visualizations.\n",
    "4. **GeoPandas**\n",
    "    - Extends the Pandas library to enable spatial operations and mapping.\n",
    "    - Ideal for creating geographic visualizations and choropleth maps.\n",
    "    - Geographic visualizations, choropleth maps, and spatial data analysis."
   ]
  },
  {
   "cell_type": "markdown",
   "metadata": {},
   "source": [
    "## Examples:"
   ]
  },
  {
   "cell_type": "code",
   "execution_count": null,
   "metadata": {},
   "outputs": [],
   "source": [
    "import matplotlib.pyplot as plt\n",
    "import numpy as np  \n",
    "\n",
    "years = np.arange(2010, 2023)\n",
    "gdp_growth = [2.3, 2.5, 2.8, 2.7, 2.9, 3.2, 3.5, 3.0, 2.9, 2.7, 2.5, 2.1, 1.9]\n",
    "\n",
    "plt.figure(figsize=(8,5))  \n",
    "plt.plot(years, gdp_growth, marker='o', linestyle='-', color='b', label=\"GDP Growth\")  \n",
    "plt.xlabel(\"Year\") # x-axis label\n",
    "plt.ylabel(\"GDP Growth (%)\") # y-axis label\n",
    "plt.title(\"GDP Growth Over Time\") # title\n",
    "plt.legend() # show legend, default parameters are `loc='best'` and `frameon=False`\n",
    "plt.grid()\n",
    "plt.show()"
   ]
  },
  {
   "cell_type": "markdown",
   "metadata": {},
   "source": [
    "### **1️⃣ Matplotlib - Line Chart (GDP Growth Over Time)**\n",
    "- `plt.plot()`: Create a line chart to visualize trends over time.\n",
    "- **Default:**\n",
    "  ```python\n",
    "  plt.plot(x, y, marker=None, linestyle='-', color=None, label=None)\n",
    "  ```\n",
    "- **Key Parameters:**\n",
    "  - `x`: Data for the x-axis (e.g., years).\n",
    "  - `y`: Data for the y-axis (e.g., GDP growth %).\n",
    "  - `marker`: Style of the data points (e.g., `'o'` for circles).\n",
    "  - `linestyle`: Type of line (e.g., `'-'` for solid, `'--'` for dashed).\n",
    "  - `color`: Color of the line (e.g., `'blue'`).\n",
    "  - `label`: Label for the legend."
   ]
  },
  {
   "cell_type": "code",
   "execution_count": null,
   "metadata": {},
   "outputs": [],
   "source": [
    "import seaborn as sns  \n",
    "\n",
    "# Generate random income data (simulating inequality)\n",
    "np.random.seed(42)\n",
    "income = np.random.gamma(shape=2, scale=20000, size=5000)  \n",
    "\n",
    "df = pd.DataFrame({\"income\": income})\n",
    "\n",
    "sns.histplot(df['income'], kde=True, bins=30, color='blue')  \n",
    "plt.xlabel(\"Income Level\")  \n",
    "plt.ylabel(\"Density\")  \n",
    "plt.title(\"Income Distribution in a Country\")  \n",
    "plt.show()\n"
   ]
  },
  {
   "cell_type": "markdown",
   "metadata": {},
   "source": [
    "### **2️⃣ Seaborn - Distribution Plot (Income Inequality)**\n",
    "- `sns.histplot()`: Create a histogram with an optional KDE curve.\n",
    "- **Default:**\n",
    "  ```python\n",
    "  sns.histplot(data, x=None, hue=None, bins='auto', kde=False)\n",
    "  ```\n",
    "- **Key Parameters:**\n",
    "  - `data`: DataFrame containing the variable.\n",
    "  - `x`: The column to visualize.\n",
    "  - `hue`: Color-grouping based on categories.\n",
    "  - `bins`: Number of bins (default: `'auto'`).\n",
    "  - `kde`: Whether to overlay a Kernel Density Estimate curve. When `kde=True`, then smoothed probability density function (PDF) is overlaid on the histogram.\n"
   ]
  },
  {
   "cell_type": "markdown",
   "metadata": {},
   "source": [
    "## Visualizing Economic Distributions\n",
    "- Why: economic indicators are distributed within a population is essential for policy-making and economic research\n",
    "- when income is highly skewed, policies like progressive taxation, social welfare programs, or minimum wage adjustments might be necessary\n",
    "\n",
    "### Three key tools to visualize economic distributions\n",
    "1. **Histograms**\n",
    "    - Shows the frequency distribution of a variable.\n",
    "    - Useful for understanding the shape of the distribution.\n",
    "\n",
    "2. Kernel Density Estimation (KDE) Plots\n",
    "    - Smoothed version of a histogram.\n",
    "    - Provides a continuous estimate of the distribution.\n",
    "\n",
    "3. Box Plots\n",
    "    - Shows the distribution of a variable's values.\n",
    "    - Useful for identifying outliers and comparing distributions."
   ]
  },
  {
   "cell_type": "markdown",
   "metadata": {},
   "source": [
    "#### Example: Visualizing Income Distribution with a Histogram"
   ]
  },
  {
   "cell_type": "code",
   "execution_count": null,
   "metadata": {},
   "outputs": [],
   "source": [
    "sns.histplot(apis_clean['hh_inc'], kde=True, bins=30, color='blue')\n",
    "plt.xlabel(\"Income Level\")  \n",
    "plt.ylabel(\"Density\")  \n",
    "plt.title(\"Income Distribution in the Philippines\")  \n",
    "plt.show()"
   ]
  },
  {
   "cell_type": "markdown",
   "metadata": {},
   "source": [
    "**What are the possible interpretations of the income distribution?**"
   ]
  },
  {
   "cell_type": "markdown",
   "metadata": {},
   "source": [
    "#### Example: Comparing Income Across Regions"
   ]
  },
  {
   "cell_type": "code",
   "execution_count": null,
   "metadata": {},
   "outputs": [],
   "source": [
    "sns.boxplot(x='REG', y='hh_inc', data=apis_clean, color='blue')\n",
    "plt.xlabel(\"Region\")\n",
    "plt.ylabel(\"Income Level\")\n",
    "plt.title(\"Income Distribution by Region in the Philippines\")"
   ]
  },
  {
   "cell_type": "code",
   "execution_count": 19,
   "metadata": {},
   "outputs": [],
   "source": [
    "# remove outliers for better visualization by removing top 1% of the data\n",
    "q99 = apis_clean['hh_inc'].quantile(0.99)\n",
    "apis_clean_no_outliers = apis_clean[apis_clean['hh_inc'] < q99]\n"
   ]
  },
  {
   "cell_type": "code",
   "execution_count": null,
   "metadata": {},
   "outputs": [],
   "source": [
    "sns.boxplot(x='REG', y='hh_inc', data=apis_clean_no_outliers, color='blue')\n",
    "plt.xlabel(\"Region\")\n",
    "plt.ylabel(\"Income Level\")\n",
    "plt.title(\"Income Distribution by Region in the Philippines\")"
   ]
  },
  {
   "cell_type": "markdown",
   "metadata": {},
   "source": [
    "## Scatter Plots for Economic Analysis\n",
    "Scatter plots help visualize relationships between economic indicators. For example:\n",
    "- Does higher education lead to higher income?\n",
    "- Is there a relationship between inflation and unemployment rates?\n",
    "- Does unemployment correlate with crime rates?"
   ]
  },
  {
   "cell_type": "code",
   "execution_count": null,
   "metadata": {},
   "outputs": [],
   "source": [
    "# Dictionary mapping highest grade completed to years of schooling\n",
    "years_of_schooling = {\n",
    "    # No education\n",
    "    0: 0,  # No Grade Completed\n",
    "    1000: 1,  # Nursery\n",
    "    2000: 2,  # Kindergarten\n",
    "\n",
    "    # Elementary\n",
    "    10011: 3,  # Grade 1\n",
    "    10012: 4,  # Grade 2\n",
    "    10013: 5,  # Grade 3\n",
    "    10014: 6,  # Grade 4\n",
    "    10015: 7,  # Grade 5\n",
    "    10018: 8,  # Elem Graduate/Grade 6 Completed\n",
    "\n",
    "    # Junior High School\n",
    "    24011: 9,  # Grade 7 / 1st Year HS\n",
    "    24012: 10, # Grade 8 / 2nd Year HS\n",
    "    24013: 11, # Grade 9 / 3rd Year HS\n",
    "    24015: 12, # Grade 10 / 4th Year HS (Graduated)\n",
    "\n",
    "    # Senior High School\n",
    "    34011: 13, # Grade 11 - Academic Track\n",
    "    34013: 14, # Graduate - Academic Track\n",
    "    34021: 13, # Grade 11 - Arts and Design Track\n",
    "    34023: 14, # Graduate - Arts and Design Track\n",
    "    34031: 13, # Grade 11 - Sports Track\n",
    "    34033: 14, # Graduate - Sports Track\n",
    "    35011: 13, # Grade 11 - Tech-Voc Track\n",
    "    35013: 14, # Graduate - Tech-Voc Track\n",
    "\n",
    "    # Post-Secondary Non-Tertiary\n",
    "    40001: 13, # 1st Year Post Secondary\n",
    "    40002: 14, # 2nd Year Post Secondary\n",
    "    40003: 15, # 3rd Year Post Secondary\n",
    "\n",
    "    # Tertiary (College)\n",
    "    50001: 13, # 1st Year Short Cycle Tertiary\n",
    "    50002: 14, # 2nd Year Short Cycle Tertiary\n",
    "    50003: 15, # 3rd Year Short Cycle Tertiary\n",
    "    60001: 13, # 1st Year College\n",
    "    60002: 14, # 2nd Year College\n",
    "    60003: 15, # 3rd Year College\n",
    "    60004: 16, # 4th Year College\n",
    "    60005: 17, # 5th Year College\n",
    "    60006: 18, # 6th Year College\n",
    "\n",
    "    # Graduate Studies\n",
    "    70010: 17, # Undergraduate - Master's Level\n",
    "    80010: 19, # Undergraduate - Doctoral Level\n",
    "\n",
    "    # Alternative Programs (Set conservatively)\n",
    "    10004: 6,  # IPED (Indigenous Education)\n",
    "    10005: 6,  # Madrasah\n",
    "    10006: 6,  # SPED\n",
    "    24004: 10, # IPED - Secondary Level\n",
    "    24005: 10, # Madrasah - Secondary Level\n",
    "    24006: 10, # SPED - Secondary Level\n",
    "}\n",
    "\n",
    "apis_clean['years_completed'] = apis_clean['H12_HGC'].map(years_of_schooling)"
   ]
  },
  {
   "cell_type": "code",
   "execution_count": null,
   "metadata": {},
   "outputs": [],
   "source": [
    "sns.scatterplot(x='years_completed', y='hh_inc', data=apis_clean, color='blue')\n",
    "plt.xlabel(\"Years of Schooling\")\n",
    "plt.ylabel(\"Income Level\")\n",
    "plt.title(\"Income vs. Years of Schooling in the Philippines\")\n",
    "plt.show()"
   ]
  },
  {
   "cell_type": "markdown",
   "metadata": {},
   "source": [
    "# Exercise: APIS Data Visualization\n",
    "\n",
    "## Income and Household Size Distribution\n",
    "- Create a histogram of family income to see its distribution, remove outliers if necessary to provide a more informative visualization\n",
    "- Compare income distribution across rural and urban households using KDE plots\n",
    "- Plot a scatterplot of family size vs. income to see if larger families have lower incomes.\n",
    "\n",
    "## Education and Economic Well-being\n",
    "- Compare education levels of household heads (e.g., primary, secondary, college)\n",
    "- Check if higher education correlates with higher income\n",
    "- Compare education levels across regions\n",
    "\n",
    "## Loans and Household Financial Behavior\n",
    "- Visualize the proportion of families who availed loans in the past 6 months\n",
    "- Break down where families got their loans (banks, cooperatives, informal lenders)\n",
    "- Compare income levels of households that availed vs. did not avail loans\n",
    "\n",
    "## Internet and Digital Transactions\n",
    "- Visualize the proportion of households with internet access\n",
    "- Compare internet access across regions\n",
    "- Analyze types of online transactions (banking, bills, buying, selling).\n",
    "- Investigate if higher education leads to greater online activity.\n",
    "\n",
    "## Safety and Neighborhood Well-being\n",
    "- Compare perceptions of safety between urban and rural areas\n",
    "- Check if women feel less safe walking alone at night compared to men.\n",
    "- See if families with higher incomes report feeling safer."
   ]
  }
 ],
 "metadata": {
  "kernelspec": {
   "display_name": ".venv",
   "language": "python",
   "name": "python3"
  },
  "language_info": {
   "codemirror_mode": {
    "name": "ipython",
    "version": 3
   },
   "file_extension": ".py",
   "mimetype": "text/x-python",
   "name": "python",
   "nbconvert_exporter": "python",
   "pygments_lexer": "ipython3",
   "version": "3.13.1"
  }
 },
 "nbformat": 4,
 "nbformat_minor": 2
}
